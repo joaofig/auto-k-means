{
 "cells": [
  {
   "cell_type": "code",
   "execution_count": 64,
   "metadata": {},
   "outputs": [],
   "source": [
    "import pandas as pd\n",
    "import numpy as np\n",
    "import math\n",
    "#import io\n",
    "#import requests\n",
    "\n",
    "data_folder = \"data\"\n",
    "\n",
    "a1 = pd.read_csv('data/unbalance.txt', names=['x', 'y'], delim_whitespace=True, dtype=np.float64)\n",
    "#a2 = pd.read_csv('data/a2.txt', names=['x', 'y'], delim_whitespace=True, dtype=np.float64)\n",
    "#a3 = pd.read_csv('data/a3.txt', names=['x', 'y'], delim_whitespace=True, dtype=np.float64)"
   ]
  },
  {
   "cell_type": "code",
   "execution_count": null,
   "metadata": {},
   "outputs": [],
   "source": []
  },
  {
   "cell_type": "code",
   "execution_count": 129,
   "metadata": {},
   "outputs": [],
   "source": [
    "a1 = (a1 - a1.mean()) / (a1.max() - a1.min())\n",
    "#a1 = (a1 - a1.mean()) / (a1.std())\n",
    "\n",
    "#a2_n = (a2 - a2.mean()) / (a2.max() - a2.min())\n",
    "#a2_s = (a2 - a2.mean()) / (a2.std())\n",
    "\n",
    "#a3_n = (a3 - a3.mean()) / (a3.max() - a3.min())\n",
    "#a3_s = (a3 - a3.mean()) / (a3.std())"
   ]
  },
  {
   "cell_type": "code",
   "execution_count": 130,
   "metadata": {},
   "outputs": [],
   "source": [
    "from sklearn.cluster import KMeans"
   ]
  },
  {
   "cell_type": "code",
   "execution_count": 131,
   "metadata": {},
   "outputs": [],
   "source": [
    "def alpha_k(k, dim):\n",
    "    if k == 2:\n",
    "        return 1.0 - 3.0 / (4.0 * dim)\n",
    "    else:\n",
    "        ak1 = alpha_k(k - 1, dim)\n",
    "        return ak1 + (1.0 - ak1) / 6.0"
   ]
  },
  {
   "cell_type": "code",
   "execution_count": 132,
   "metadata": {},
   "outputs": [],
   "source": [
    "def cluster_eval(s_k, a_k, k):\n",
    "    if k == 1:\n",
    "        return 1.0\n",
    "    elif s_k[k-2] != 0.0:\n",
    "        print('k: {0}, a: {1}, s(k-1): {2}, s(k): {3}, f(k): {4}'.format(k, a_k[k-1], s_k[k-2], s_k[k-1], s_k[k-1] / (a_k[k-1] * s_k[k-2])))\n",
    "        return s_k[k-1] / (a_k[k-1] * s_k[k-2])\n",
    "    else:\n",
    "        return 1.0"
   ]
  },
  {
   "cell_type": "code",
   "execution_count": 133,
   "metadata": {},
   "outputs": [],
   "source": [
    "def calculate_alpha_k(df, max_k):\n",
    "    a_k = np.zeros(max_k)\n",
    "    dims = len(df.columns)\n",
    "    \n",
    "    for k in range(2, max_k + 1):\n",
    "        if k == 2:\n",
    "            a_k[k-1] = 1.0 - 3.0 / (4.0 * dims)\n",
    "        else:\n",
    "            a_k[k-1] = a_k[k-2] + (1.0 - a_k[k-2]) / 6.0\n",
    "    return a_k"
   ]
  },
  {
   "cell_type": "code",
   "execution_count": 134,
   "metadata": {},
   "outputs": [],
   "source": [
    "def calculate_s_k(df,max_k):\n",
    "    kmeans_list = [KMeans(n_clusters=k).fit(df) for k in range(1, max_k + 1)]\n",
    "    s_k = np.array([kmeans.inertia_ for kmeans in kmeans_list])\n",
    "    return s_k"
   ]
  },
  {
   "cell_type": "code",
   "execution_count": 135,
   "metadata": {},
   "outputs": [],
   "source": [
    "def calculate_f_k(df, max_k):\n",
    "    f_k = np.ones(max_k)\n",
    "    a_k = calculate_alpha_k(df, max_k)\n",
    "    s_k = calculate_s_k(df, max_k)\n",
    "        \n",
    "    for k in range(2, max_k + 1):\n",
    "        f_k[k-1] = cluster_eval(s_k, a_k, k)\n",
    "    return f_k"
   ]
  },
  {
   "cell_type": "code",
   "execution_count": 136,
   "metadata": {},
   "outputs": [],
   "source": [
    "def estimate_k(df, max_k):\n",
    "    f_k = calculate_f_k(df, max_k)\n",
    "    return np.argmin(f_k) + 1"
   ]
  },
  {
   "cell_type": "code",
   "execution_count": 137,
   "metadata": {},
   "outputs": [],
   "source": [
    "def distance_to_line(px0, py0, x0, y0, x1, y1):\n",
    "    dy = y0 - y1\n",
    "    dx = x0 - x1\n",
    "    return abs(dy * px0 - dx * py0 + (x0 * y1 - x1 * y0)) / math.sqrt(dx * dx + dy * dy)"
   ]
  },
  {
   "cell_type": "code",
   "execution_count": 138,
   "metadata": {},
   "outputs": [],
   "source": [
    "def estimate_elbow(df, max_k):\n",
    "    s_k = calculate_s_k(df, max_k)\n",
    "    x0 = 1\n",
    "    y0 = s_k[0]\n",
    "    x1 = len(df)\n",
    "    y1 = 0\n",
    "    max_dist = 0\n",
    "    \n",
    "    for x in range(1, len(df)):\n",
    "        dist = distance_to_line(x, s_k[x-1], x0, y0, x1, y1)\n",
    "        if dist > max_dist:\n",
    "            max_dist = dist\n",
    "        else:\n",
    "            return x\n",
    "    return -1"
   ]
  },
  {
   "cell_type": "code",
   "execution_count": 139,
   "metadata": {},
   "outputs": [
    {
     "data": {
      "text/plain": [
       "1"
      ]
     },
     "execution_count": 139,
     "metadata": {},
     "output_type": "execute_result"
    }
   ],
   "source": [
    "estimate_elbow(a1, 20)"
   ]
  },
  {
   "cell_type": "code",
   "execution_count": 140,
   "metadata": {},
   "outputs": [
    {
     "data": {
      "text/plain": [
       "array([341.05440511, 105.96380478,  64.22290965,  33.18595577,\n",
       "        14.28662635,   9.37069312,   6.80754397,   4.24711184,\n",
       "         3.80183251,   3.3717359 ,   2.95912008,   2.70053913,\n",
       "         2.53699049,   2.27845526,   2.08564873,   1.90295605,\n",
       "         1.85337   ,   1.67197689,   1.60029463,   1.47964901])"
      ]
     },
     "execution_count": 140,
     "metadata": {},
     "output_type": "execute_result"
    }
   ],
   "source": [
    "s_k = calculate_s_k(a1, 20)\n",
    "s_k"
   ]
  },
  {
   "cell_type": "code",
   "execution_count": 141,
   "metadata": {},
   "outputs": [
    {
     "data": {
      "text/plain": [
       "array([0.        , 0.625     , 0.6875    , 0.73958333, 0.78298611,\n",
       "       0.81915509, 0.84929591, 0.87441326, 0.89534438, 0.91278699,\n",
       "       0.92732249, 0.93943541, 0.94952951, 0.95794125, 0.96495105,\n",
       "       0.97079254, 0.97566045, 0.97971704, 0.98309753, 0.98591461])"
      ]
     },
     "execution_count": 141,
     "metadata": {},
     "output_type": "execute_result"
    }
   ],
   "source": [
    "calculate_alpha_k(a1, 20)"
   ]
  },
  {
   "cell_type": "code",
   "execution_count": null,
   "metadata": {},
   "outputs": [],
   "source": []
  },
  {
   "cell_type": "code",
   "execution_count": null,
   "metadata": {},
   "outputs": [],
   "source": []
  },
  {
   "cell_type": "code",
   "execution_count": 142,
   "metadata": {},
   "outputs": [
    {
     "data": {
      "text/plain": [
       "[<matplotlib.lines.Line2D at 0x26fbd2f9438>]"
      ]
     },
     "execution_count": 142,
     "metadata": {},
     "output_type": "execute_result"
    },
    {
     "data": {
      "image/png": "[encoded data removed]",
      "text/plain": [
       "<Figure size 432x288 with 1 Axes>"
      ]
     },
     "metadata": {
      "needs_background": "light"
     },
     "output_type": "display_data"
    }
   ],
   "source": [
    "%matplotlib inline\n",
    "import matplotlib.pyplot as plt \n",
    "\n",
    "fig, ax1 = plt.subplots()\n",
    "ax1.plot(range(1, len(s_k) + 1), s_k)\n"
   ]
  },
  {
   "cell_type": "code",
   "execution_count": null,
   "metadata": {},
   "outputs": [],
   "source": []
  },
  {
   "cell_type": "code",
   "execution_count": 143,
   "metadata": {},
   "outputs": [
    {
     "data": {
      "text/plain": [
       "<matplotlib.collections.PathCollection at 0x26fbd4cc2e8>"
      ]
     },
     "execution_count": 143,
     "metadata": {},
     "output_type": "execute_result"
    },
    {
     "data": {
      "image/png": "[encoded data removed]",
      "text/plain": [
       "<Figure size 432x288 with 1 Axes>"
      ]
     },
     "metadata": {
      "needs_background": "light"
     },
     "output_type": "display_data"
    }
   ],
   "source": [
    "%matplotlib inline\n",
    "import matplotlib.pyplot as plt\n",
    "\n",
    "fig, ax1 = plt.subplots()\n",
    "ax1.scatter(a1.x, a1.y)"
   ]
  },
  {
   "cell_type": "code",
   "execution_count": 144,
   "metadata": {},
   "outputs": [
    {
     "name": "stdout",
     "output_type": "stream",
     "text": [
      "k: 2, a: 0.625, s(k-1): 341.05440510525784, s(k): 105.96380477510974, f(k): 0.4971115608017163\n",
      "k: 3, a: 0.6875, s(k-1): 105.96380477510974, s(k): 64.222909647321, f(k): 0.8815759447620066\n",
      "k: 4, a: 0.7395833333333334, s(k-1): 64.222909647321, s(k): 33.185955770350056, f(k): 0.6986782708934309\n",
      "k: 5, a: 0.7829861111111112, s(k-1): 33.185955770350056, s(k): 14.286626345978311, f(k): 0.5498209676265934\n",
      "k: 6, a: 0.8191550925925927, s(k-1): 14.286626345978311, s(k): 9.370693116736001, f(k): 0.8007111818698777\n",
      "k: 7, a: 0.8492959104938272, s(k-1): 9.370693116736001, s(k): 6.807543966380376, f(k): 0.855381211511209\n",
      "k: 8, a: 0.8744132587448561, s(k-1): 6.807543966380376, s(k): 4.247111838858266, f(k): 0.7134877290354816\n",
      "k: 9, a: 0.8953443822873801, s(k-1): 4.247111838858266, s(k): 3.8015731341263113, f(k): 0.999722667634676\n",
      "k: 10, a: 0.9127869852394834, s(k-1): 3.8015731341263113, s(k): 3.371429169495983, f(k): 0.9715860062361793\n",
      "k: 11, a: 0.9273224876995695, s(k-1): 3.371429169495983, s(k): 3.139300793531999, f(k): 1.0041257357893254\n",
      "k: 12, a: 0.939435406416308, s(k-1): 3.139300793531999, s(k): 2.699940813517823, f(k): 0.9154916547565022\n",
      "k: 13, a: 0.9495295053469233, s(k-1): 2.699940813517823, s(k): 2.4727674430357958, f(k): 0.9645407173236469\n",
      "k: 14, a: 0.9579412544557694, s(k-1): 2.4727674430357958, s(k): 2.277790656920189, f(k): 0.9615938039050503\n",
      "k: 15, a: 0.9649510453798078, s(k-1): 2.277790656920189, s(k): 2.084713797645489, f(k): 0.948478198196535\n",
      "k: 16, a: 0.9707925378165065, s(k-1): 2.084713797645489, s(k): 1.9054208857978725, f(k): 0.941495071982719\n",
      "k: 17, a: 0.9756604481804221, s(k-1): 1.9054208857978725, s(k): 1.7915790823389564, f(k): 0.96370999261152\n",
      "k: 18, a: 0.9797170401503518, s(k-1): 1.7915790823389564, s(k): 1.6716433947543843, f(k): 0.9523728182348388\n",
      "k: 19, a: 0.9830975334586265, s(k-1): 1.6716433947543843, s(k): 1.663259208808816, f(k): 1.012091304414674\n",
      "k: 20, a: 0.985914611215522, s(k-1): 1.663259208808816, s(k): 1.4942312705041947, f(k): 0.9112102184225025\n",
      "k: 21, a: 0.9882621760129351, s(k-1): 1.4942312705041947, s(k): 1.4335725008535416, f(k): 0.9707997749068299\n",
      "k: 22, a: 0.9902184800107793, s(k-1): 1.4335725008535416, s(k): 1.3724275433374014, f(k): 0.9668046634393623\n",
      "k: 23, a: 0.991848733342316, s(k-1): 1.3724275433374014, s(k): 1.3290036544818016, f(k): 0.9763180235256776\n",
      "k: 24, a: 0.9932072777852634, s(k-1): 1.3290036544818016, s(k): 1.268000713456929, f(k): 0.9606239928848932\n",
      "k: 25, a: 0.9943393981543862, s(k-1): 1.268000713456929, s(k): 1.2178408378792396, f(k): 0.9659093892327512\n",
      "k: 26, a: 0.9952828317953218, s(k-1): 1.2178408378792396, s(k): 1.1602927502828153, f(k): 0.957261368577623\n",
      "k: 27, a: 0.9960690264961015, s(k-1): 1.1602927502828153, s(k): 1.138525147291623, f(k): 0.9851120088024239\n",
      "k: 28, a: 0.9967241887467513, s(k-1): 1.138525147291623, s(k): 1.0911586577392987, f(k): 0.961546468950712\n",
      "k: 29, a: 0.9972701572889594, s(k-1): 1.0911586577392987, s(k): 1.064622067749319, f(k): 0.9783511007254081\n",
      "k: 30, a: 0.9977251310741329, s(k-1): 1.064622067749319, s(k): 1.037540666565533, f(k): 0.9767844840287974\n"
     ]
    },
    {
     "data": {
      "text/plain": [
       "array([1.        , 0.49711156, 0.88157594, 0.69867827, 0.54982097,\n",
       "       0.80071118, 0.85538121, 0.71348773, 0.99972267, 0.97158601,\n",
       "       1.00412574, 0.91549165, 0.96454072, 0.9615938 , 0.9484782 ,\n",
       "       0.94149507, 0.96370999, 0.95237282, 1.0120913 , 0.91121022,\n",
       "       0.97079977, 0.96680466, 0.97631802, 0.96062399, 0.96590939,\n",
       "       0.95726137, 0.98511201, 0.96154647, 0.9783511 , 0.97678448])"
      ]
     },
     "execution_count": 144,
     "metadata": {},
     "output_type": "execute_result"
    }
   ],
   "source": [
    "t = np.arange(1, 31)\n",
    "f_k = calculate_f_k(a1, 30)\n",
    "#fig, ax1 = plt.subplots()\n",
    "#ax1.plot(t, f_k)\n",
    "f_k"
   ]
  },
  {
   "cell_type": "code",
   "execution_count": 145,
   "metadata": {},
   "outputs": [
    {
     "data": {
      "text/plain": [
       "array([0.        , 0.625     , 0.6875    , 0.73958333, 0.78298611,\n",
       "       0.81915509, 0.84929591, 0.87441326, 0.89534438, 0.91278699,\n",
       "       0.92732249, 0.93943541, 0.94952951, 0.95794125, 0.96495105,\n",
       "       0.97079254, 0.97566045, 0.97971704, 0.98309753, 0.98591461,\n",
       "       0.98826218, 0.99021848, 0.99184873, 0.99320728, 0.9943394 ,\n",
       "       0.99528283, 0.99606903, 0.99672419, 0.99727016, 0.99772513])"
      ]
     },
     "execution_count": 145,
     "metadata": {},
     "output_type": "execute_result"
    }
   ],
   "source": [
    "calculate_alpha_k(a1, 30)"
   ]
  },
  {
   "cell_type": "code",
   "execution_count": 146,
   "metadata": {},
   "outputs": [
    {
     "data": {
      "text/plain": [
       "array([1.        , 0.49711156, 0.88157594, 0.69867827, 0.54982097,\n",
       "       0.80071118, 0.85538121, 0.71348773, 0.99972267, 0.97158601,\n",
       "       1.00412574, 0.91549165, 0.96454072, 0.9615938 , 0.9484782 ,\n",
       "       0.94149507, 0.96370999, 0.95237282, 1.0120913 , 0.91121022,\n",
       "       0.97079977, 0.96680466, 0.97631802, 0.96062399, 0.96590939,\n",
       "       0.95726137, 0.98511201, 0.96154647, 0.9783511 , 0.97678448])"
      ]
     },
     "execution_count": 146,
     "metadata": {},
     "output_type": "execute_result"
    }
   ],
   "source": [
    "f_k"
   ]
  },
  {
   "cell_type": "code",
   "execution_count": null,
   "metadata": {},
   "outputs": [],
   "source": []
  }
 ],
 "metadata": {
  "kernelspec": {
   "display_name": "Python 3",
   "language": "python",
   "name": "python3"
  },
  "language_info": {
   "codemirror_mode": {
    "name": "ipython",
    "version": 3
   },
   "file_extension": ".py",
   "mimetype": "text/x-python",
   "name": "python",
   "nbconvert_exporter": "python",
   "pygments_lexer": "ipython3",
   "version": "3.6.6"
  }
 },
 "nbformat": 4,
 "nbformat_minor": 2
}
